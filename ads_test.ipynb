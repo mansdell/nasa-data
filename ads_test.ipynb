{
 "cells": [
  {
   "cell_type": "code",
   "execution_count": 5,
   "metadata": {},
   "outputs": [],
   "source": [
    "import numpy as np\n",
    "import ads\n",
    "%matplotlib inline\n",
    "import matplotlib.pyplot as plt"
   ]
  },
  {
   "cell_type": "code",
   "execution_count": null,
   "metadata": {},
   "outputs": [],
   "source": [
    "# help(ads.SearchQuery)\n",
    "\"\"\"\n",
    "first_paper.abstract              first_paper.build_citation_tree   first_paper.first_author_norm     first_paper.keys                  first_paper.pubdate\n",
    "first_paper.aff                   first_paper.build_reference_tree  first_paper.id                    first_paper.keyword               first_paper.read_count\n",
    "first_paper.author                first_paper.citation              first_paper.identifier            first_paper.metrics               first_paper.reference\n",
    "first_paper.bibcode               first_paper.citation_count        first_paper.issue                 first_paper.page                  first_paper.title\n",
    "first_paper.bibstem               first_paper.database              first_paper.items                 first_paper.property              first_paper.volume\n",
    "first_paper.bibtex                first_paper.first_author          first_paper.iteritems             first_paper.pub                   first_paper.year\n",
    "\n",
    "\"\"\""
   ]
  },
  {
   "cell_type": "code",
   "execution_count": 15,
   "metadata": {},
   "outputs": [],
   "source": [
    "### JOURNALS TO SEARCH\n",
    "Journals = [\"The Astrophysical Journal\", \"Monthly Notices of the Royal Astronomical Society\", \"The Astronomical Journal\", \"Astronomy and Astrophysics\"]\n",
    "Journals = [\"Geophysical Research Letters\", \"Icarus\", \"Planetary and Space Science\", \"Meteoritics\", \"Astrobiology\"]\n",
    "\n",
    "### TERMS TO LOOK FOR\n",
    "Terms = [\"Machine Learning\", \"Deep Learning\", \"Artificial Intelligence\"]\n",
    "\n",
    "### YEARS TO TRACK\n",
    "Years = np.arange(2000, 2020)\n",
    "\n",
    "### INFO TO GRAB FOR EACH ENTRY\n",
    "Fields = ['title', 'citation_count', 'identifier', 'keyword', 'property', 'pub', 'year']"
   ]
  },
  {
   "cell_type": "code",
   "execution_count": 16,
   "metadata": {},
   "outputs": [
    {
     "name": "stdout",
     "output_type": "stream",
     "text": [
      "\t2000\t[0, 0, 0, 0, 0]\n",
      "\t2001\t[0, 0, 0, 0, 0]\n",
      "\t2002\t[0, 0, 0, 0, 0]\n",
      "\t2003\t[0, 0, 0, 0, 0]\n",
      "\t2004\t[2, 0, 0, 0, 0]\n",
      "\t2005\t[1, 0, 0, 0, 0]\n",
      "\t2006\t[2, 0, 0, 0, 0]\n",
      "\t2007\t[4, 0, 0, 0, 0]\n",
      "\t2008\t[2, 0, 0, 0, 0]\n",
      "\t2009\t[2, 1, 0, 0, 0]\n",
      "\t2010\t[0, 0, 0, 0, 1]\n",
      "\t2011\t[2, 0, 0, 0, 0]\n",
      "\t2012\t[2, 0, 0, 0, 0]\n",
      "\t2013\t[1, 0, 0, 0, 0]\n",
      "\t2014\t[1, 0, 0, 0, 1]\n",
      "\t2015\t[2, 0, 0, 0, 0]\n",
      "\t2016\t[3, 0, 2, 0, 1]\n",
      "\t2017\t[6, 0, 0, 0, 0]\n",
      "\t2018\t[12, 0, 0, 0, 1]\n",
      "\t2019\t[18, 1, 0, 0, 0]\n"
     ]
    }
   ],
   "source": [
    "nArt, Arts = [], []\n",
    "\n",
    "### LOOP OVER EACH YEAR\n",
    "for yr in Years:\n",
    "        \n",
    "    ### LOOP OVER EACH JOURNAL\n",
    "    tmp, tmp2 = [], []\n",
    "    for jn in Journals:\n",
    "    \n",
    "        ### SEARCH FOR ALL PAPERS IN THIS JOURNAL PUBLISHED IN THIS YEAR THAT CONTAIN THE DESIRED TERM\n",
    "        papers = list(ads.SearchQuery(q=Terms[0], fl=Fields, sort=\"citation_count\", year=yr, pub=jn, rows=2000, max_pages=20))\n",
    "        tmp.append(len(papers))\n",
    "        tmp2 += papers\n",
    "\n",
    "    ### LOG THE NUMBER OF ARTICLES PER JOURNAL PER YEAR\n",
    "    print(\"\\t{0:0}\\t{1}\".format(yr, tmp))\n",
    "    nArt.append(tmp)\n",
    "    Arts += tmp2\n",
    "    \n",
    "### SUM THE NUMBER OF ARTICLES PER YEAR\n",
    "nArt2 = [np.sum(x) for x in nArt]  "
   ]
  },
  {
   "cell_type": "code",
   "execution_count": 17,
   "metadata": {},
   "outputs": [],
   "source": [
    "# nAstro = np.copy(nArt2)\n",
    "# aAstro = np.copy(Arts)\n",
    "\n",
    "# nPS = np.copy(nArt2)\n",
    "# aPS = np.copy(Arts)"
   ]
  },
  {
   "cell_type": "code",
   "execution_count": 34,
   "metadata": {},
   "outputs": [],
   "source": [
    "### THIS EXTRACTS THE HELIOPHYSICS ARTICLES FROM THE ASTRO ARTICLES\n",
    "count, yr_helio = 0, []\n",
    "for p, paper in enumerate(aAstro):\n",
    "        \n",
    "    try:\n",
    "        if ('helio' in ' '.join(paper.keyword)) | ('Sun' in ' '.join(paper.keyword)) :   \n",
    "            yr_helio.append(int(paper.year))\n",
    "#             print(paper.title, paper.pub, paper.year)\n",
    "    except:\n",
    "        count+=1\n",
    "\n",
    "nHelio = [yr_helio.count(x) for x in Years]"
   ]
  },
  {
   "cell_type": "code",
   "execution_count": 35,
   "metadata": {},
   "outputs": [
    {
     "data": {
      "image/png": "[encoded data removed]",
      "text/plain": [
       "<Figure size 432x288 with 1 Axes>"
      ]
     },
     "metadata": {
      "needs_background": "light"
     },
     "output_type": "display_data"
    }
   ],
   "source": [
    "plt.plot(Years, nAstro, label='Astro Pubs w/ML')\n",
    "plt.plot(Years, nPS, label='PS Pubs w/ML')\n",
    "plt.plot(Years, nHelio, label='Helio Pubs w/ML')\n",
    "plt.xticks(ticks=Years, rotation=90);\n",
    "plt.legend();"
   ]
  },
  {
   "cell_type": "code",
   "execution_count": null,
   "metadata": {},
   "outputs": [],
   "source": []
  },
  {
   "cell_type": "code",
   "execution_count": null,
   "metadata": {},
   "outputs": [],
   "source": []
  }
 ],
 "metadata": {
  "kernelspec": {
   "display_name": "Python 3",
   "language": "python",
   "name": "python3"
  },
  "language_info": {
   "codemirror_mode": {
    "name": "ipython",
    "version": 3
   },
   "file_extension": ".py",
   "mimetype": "text/x-python",
   "name": "python",
   "nbconvert_exporter": "python",
   "pygments_lexer": "ipython3",
   "version": "3.7.6"
  }
 },
 "nbformat": 4,
 "nbformat_minor": 4
}
